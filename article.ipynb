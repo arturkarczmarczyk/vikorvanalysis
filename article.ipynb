{
 "cells": [
  {
   "cell_type": "code",
   "execution_count": 6,
   "id": "initial_id",
   "metadata": {
    "collapsed": true,
    "ExecuteTime": {
     "end_time": "2024-05-15T13:46:47.412943600Z",
     "start_time": "2024-05-15T13:46:47.398983200Z"
    }
   },
   "outputs": [],
   "source": [
    "from vikor_v_analysis import VikorVAnalysis\n",
    "import pandas as pd"
   ]
  },
  {
   "cell_type": "markdown",
   "source": [
    "Let's start by computing all data for the experiment, then we'll have all descriptions."
   ],
   "metadata": {
    "collapsed": false
   },
   "id": "c9c6e6cc217707b1"
  },
  {
   "cell_type": "code",
   "execution_count": 2,
   "outputs": [],
   "source": [
    "experiment = VikorVAnalysis('wind_farms_data.csv')\n",
    "experiment.run_experiment_v()\n",
    "experiment.run_experiment_weights()\n",
    "experiment.run_experiment_ahp()"
   ],
   "metadata": {
    "collapsed": false,
    "ExecuteTime": {
     "end_time": "2024-05-15T07:52:47.705179400Z",
     "start_time": "2024-05-15T07:52:46.118949700Z"
    }
   },
   "id": "f0c81b629f95cca7"
  },
  {
   "cell_type": "markdown",
   "source": [
    "# Towards Robust Sustainable Solutions Using VIKOR"
   ],
   "metadata": {
    "collapsed": false
   },
   "id": "573abaf4935ca605"
  },
  {
   "cell_type": "markdown",
   "source": [
    "## Results\n",
    "\n",
    "### Dataset and Baseline\n",
    "\n",
    "In the empirical study, a set of 7 potential offshore wind farm locations were investigated.\n",
    "\n",
    "> TUTAJ OPIS TYCH LOKALIZACJI na podstawie EXCELA.\n",
    "\n",
    "The locations were evaluated based on 30 criteria, which can be clustered into five groups: Location (L1-L6), Market (M7-M9), Social Benefits (S10-S17), Economic Benefits (E18-E27) and Financial Costs (F28-F30). The detailed description of the criteria is presented in **TUTAJ**. \n",
    "\n",
    "The criterial performance of each location is presented in the table below. The values are presented in their original units and are not normalized."
   ],
   "metadata": {
    "collapsed": false
   },
   "id": "a8a0e946ee89a7f0"
  },
  {
   "cell_type": "code",
   "execution_count": 3,
   "outputs": [
    {
     "data": {
      "text/plain": "      L1   L2    L3    L4    L5  L6  M7        M8          M9           S10  \\\nA1   720  122  37.0  60.0  32.0  41   4  5.901639  2882390.40  1.455826e+06   \nA2   720  119  22.0  65.0  32.0  39   3  6.050420  2882390.40  1.455826e+06   \nA3  1498  190  40.0 -40.0  35.0  50   4  7.884211  5996973.36  3.028927e+06   \nA4  1045  130  25.0 -25.0  45.0  60   3  8.038462  4183469.40  2.112970e+06   \nA5   350   41  50.0 -50.0  42.0  42   3  8.536585  1401162.00  7.076933e+05   \nA6  1140  131  22.5  35.0  39.0  45   3  8.702290  4563784.80  2.305058e+06   \nA7   400   91  23.0  28.5  46.5  60   4  4.395604  1601328.00  8.087924e+05   \n\n    ...     E21         E22          E23         E24  E25  E26  E27  \\\nA1  ...  16.560   89.124786  1782.495720  150.441696    0    3    0   \nA2  ...  16.560   89.124786  1782.495720  150.441696    0    3    0   \nA3  ...  34.454  185.429069  3708.581373  313.002306    0    2    2   \nA4  ...  24.035  129.354724  2587.094483  218.349406    0    2    2   \nA5  ...   8.050   43.324549   866.490975   73.131380    0    1    0   \nA6  ...  26.220  141.114245  2822.284890  238.199352    1    2    2   \nA7  ...   9.200   49.513770   990.275400   83.578720    0    1    0   \n\n             F28         F29      F30  \nA1   8912.478600  300.883392  159.840  \nA2   8912.478600  300.883392  159.840  \nA3  18542.906870  626.004613  332.556  \nA4  12935.472410  436.698812  231.990  \nA5   4332.454875  146.262760   77.700  \nA6  14111.424450  476.398704  253.080  \nA7   4951.377000  167.157440   88.800  \n\n[7 rows x 30 columns]",
      "text/html": "<div>\n<style scoped>\n    .dataframe tbody tr th:only-of-type {\n        vertical-align: middle;\n    }\n\n    .dataframe tbody tr th {\n        vertical-align: top;\n    }\n\n    .dataframe thead th {\n        text-align: right;\n    }\n</style>\n<table border=\"1\" class=\"dataframe\">\n  <thead>\n    <tr style=\"text-align: right;\">\n      <th></th>\n      <th>L1</th>\n      <th>L2</th>\n      <th>L3</th>\n      <th>L4</th>\n      <th>L5</th>\n      <th>L6</th>\n      <th>M7</th>\n      <th>M8</th>\n      <th>M9</th>\n      <th>S10</th>\n      <th>...</th>\n      <th>E21</th>\n      <th>E22</th>\n      <th>E23</th>\n      <th>E24</th>\n      <th>E25</th>\n      <th>E26</th>\n      <th>E27</th>\n      <th>F28</th>\n      <th>F29</th>\n      <th>F30</th>\n    </tr>\n  </thead>\n  <tbody>\n    <tr>\n      <th>A1</th>\n      <td>720</td>\n      <td>122</td>\n      <td>37.0</td>\n      <td>60.0</td>\n      <td>32.0</td>\n      <td>41</td>\n      <td>4</td>\n      <td>5.901639</td>\n      <td>2882390.40</td>\n      <td>1.455826e+06</td>\n      <td>...</td>\n      <td>16.560</td>\n      <td>89.124786</td>\n      <td>1782.495720</td>\n      <td>150.441696</td>\n      <td>0</td>\n      <td>3</td>\n      <td>0</td>\n      <td>8912.478600</td>\n      <td>300.883392</td>\n      <td>159.840</td>\n    </tr>\n    <tr>\n      <th>A2</th>\n      <td>720</td>\n      <td>119</td>\n      <td>22.0</td>\n      <td>65.0</td>\n      <td>32.0</td>\n      <td>39</td>\n      <td>3</td>\n      <td>6.050420</td>\n      <td>2882390.40</td>\n      <td>1.455826e+06</td>\n      <td>...</td>\n      <td>16.560</td>\n      <td>89.124786</td>\n      <td>1782.495720</td>\n      <td>150.441696</td>\n      <td>0</td>\n      <td>3</td>\n      <td>0</td>\n      <td>8912.478600</td>\n      <td>300.883392</td>\n      <td>159.840</td>\n    </tr>\n    <tr>\n      <th>A3</th>\n      <td>1498</td>\n      <td>190</td>\n      <td>40.0</td>\n      <td>-40.0</td>\n      <td>35.0</td>\n      <td>50</td>\n      <td>4</td>\n      <td>7.884211</td>\n      <td>5996973.36</td>\n      <td>3.028927e+06</td>\n      <td>...</td>\n      <td>34.454</td>\n      <td>185.429069</td>\n      <td>3708.581373</td>\n      <td>313.002306</td>\n      <td>0</td>\n      <td>2</td>\n      <td>2</td>\n      <td>18542.906870</td>\n      <td>626.004613</td>\n      <td>332.556</td>\n    </tr>\n    <tr>\n      <th>A4</th>\n      <td>1045</td>\n      <td>130</td>\n      <td>25.0</td>\n      <td>-25.0</td>\n      <td>45.0</td>\n      <td>60</td>\n      <td>3</td>\n      <td>8.038462</td>\n      <td>4183469.40</td>\n      <td>2.112970e+06</td>\n      <td>...</td>\n      <td>24.035</td>\n      <td>129.354724</td>\n      <td>2587.094483</td>\n      <td>218.349406</td>\n      <td>0</td>\n      <td>2</td>\n      <td>2</td>\n      <td>12935.472410</td>\n      <td>436.698812</td>\n      <td>231.990</td>\n    </tr>\n    <tr>\n      <th>A5</th>\n      <td>350</td>\n      <td>41</td>\n      <td>50.0</td>\n      <td>-50.0</td>\n      <td>42.0</td>\n      <td>42</td>\n      <td>3</td>\n      <td>8.536585</td>\n      <td>1401162.00</td>\n      <td>7.076933e+05</td>\n      <td>...</td>\n      <td>8.050</td>\n      <td>43.324549</td>\n      <td>866.490975</td>\n      <td>73.131380</td>\n      <td>0</td>\n      <td>1</td>\n      <td>0</td>\n      <td>4332.454875</td>\n      <td>146.262760</td>\n      <td>77.700</td>\n    </tr>\n    <tr>\n      <th>A6</th>\n      <td>1140</td>\n      <td>131</td>\n      <td>22.5</td>\n      <td>35.0</td>\n      <td>39.0</td>\n      <td>45</td>\n      <td>3</td>\n      <td>8.702290</td>\n      <td>4563784.80</td>\n      <td>2.305058e+06</td>\n      <td>...</td>\n      <td>26.220</td>\n      <td>141.114245</td>\n      <td>2822.284890</td>\n      <td>238.199352</td>\n      <td>1</td>\n      <td>2</td>\n      <td>2</td>\n      <td>14111.424450</td>\n      <td>476.398704</td>\n      <td>253.080</td>\n    </tr>\n    <tr>\n      <th>A7</th>\n      <td>400</td>\n      <td>91</td>\n      <td>23.0</td>\n      <td>28.5</td>\n      <td>46.5</td>\n      <td>60</td>\n      <td>4</td>\n      <td>4.395604</td>\n      <td>1601328.00</td>\n      <td>8.087924e+05</td>\n      <td>...</td>\n      <td>9.200</td>\n      <td>49.513770</td>\n      <td>990.275400</td>\n      <td>83.578720</td>\n      <td>0</td>\n      <td>1</td>\n      <td>0</td>\n      <td>4951.377000</td>\n      <td>167.157440</td>\n      <td>88.800</td>\n    </tr>\n  </tbody>\n</table>\n<p>7 rows × 30 columns</p>\n</div>"
     },
     "execution_count": 3,
     "metadata": {},
     "output_type": "execute_result"
    }
   ],
   "source": [
    "experiment.data"
   ],
   "metadata": {
    "collapsed": false,
    "ExecuteTime": {
     "end_time": "2024-05-15T13:39:42.131414100Z",
     "start_time": "2024-05-15T13:39:42.042188400Z"
    }
   },
   "id": "4501acfdca576cbc"
  },
  {
   "cell_type": "markdown",
   "source": [
    "The cost/benefit impact of each criterion is presented here:"
   ],
   "metadata": {
    "collapsed": false
   },
   "id": "e02cad86ea30e940"
  },
  {
   "cell_type": "code",
   "execution_count": 4,
   "outputs": [
    {
     "data": {
      "text/plain": "L1     1.0\nL2     1.0\nL3    -1.0\nL4    -1.0\nL5    -1.0\nL6    -1.0\nM7    -1.0\nM8     1.0\nM9     1.0\nS10    1.0\nS11    1.0\nS12    1.0\nS13    1.0\nS14    1.0\nS15    1.0\nS16    1.0\nS17    1.0\nE18    1.0\nE19    1.0\nE20    1.0\nE21    1.0\nE22    1.0\nE23    1.0\nE24    1.0\nE25    1.0\nE26    1.0\nE27    1.0\nF28   -1.0\nF29   -1.0\nF30   -1.0\nName: Type (profit/cost), dtype: float64"
     },
     "execution_count": 4,
     "metadata": {},
     "output_type": "execute_result"
    }
   ],
   "source": [
    "experiment.impacts"
   ],
   "metadata": {
    "collapsed": false,
    "ExecuteTime": {
     "end_time": "2024-05-15T13:44:57.606551Z",
     "start_time": "2024-05-15T13:44:57.581891Z"
    }
   },
   "id": "a641a7e0c93a96a"
  },
  {
   "cell_type": "markdown",
   "source": [
    "Before proceeding with any robustness experiments, a baseline ranking of the locations should be established. In order to produce a ranking using the VIKOR method, each criterion needs to be assigned the preference weight. The weights can be obtained using expert judgment, however, in order to ascertain objectivity of the research, in this study a set of 4 objective weighting methods was used: equal weights, CRITIC, Entropy Weighting and Gini. The weights are presented **TUTAJ**."
   ],
   "metadata": {
    "collapsed": false
   },
   "id": "6030b3b4aef279ce"
  },
  {
   "cell_type": "code",
   "execution_count": 8,
   "outputs": [
    {
     "data": {
      "text/plain": "           eq      crit       ent      gini\nL1   0.033333  0.017860  0.020578  0.026280\nL2   0.033333  0.016923  0.013351  0.019198\nL3   0.033333  0.058060  0.009810  0.017816\nL4   0.033333  0.063396 -0.001759  0.242031\nL5   0.033333  0.068597  0.001980  0.008285\nL6   0.033333  0.054253  0.002723  0.009510\nM7   0.033333  0.068469  0.001994  0.007351\nM8   0.033333  0.036517  0.004656  0.011984\nM9   0.033333  0.017860  0.020578  0.026280\nS10  0.033333  0.017860  0.020578  0.026280\nS11  0.033333  0.017860  0.020578  0.026280\nS12  0.033333  0.017860  0.020578  0.026280\nS13  0.033333  0.017860  0.020578  0.026280\nS14  0.033333  0.017860  0.020578  0.026280\nS15  0.033333  0.017860  0.020578  0.026280\nS16  0.033333  0.097980  0.037896  0.032204\nS17  0.033333  0.098283  0.003966  0.010378\nE18  0.033333  0.017860  0.020578  0.026280\nE19  0.033333  0.017861  0.020588  0.026287\nE20  0.033333  0.017587  0.020757  0.026461\nE21  0.033333  0.017860  0.020578  0.026280\nE22  0.033333  0.017860  0.020578  0.026280\nE23  0.033333  0.017860  0.020578  0.026280\nE24  0.033333  0.017860  0.020578  0.026280\nE25  0.033333  0.040876  0.376429  0.088211\nE26  0.033333  0.042752  0.014460  0.021003\nE27  0.033333  0.032678  0.163907  0.058807\nF28  0.033333  0.017860  0.020578  0.026280\nF29  0.033333  0.017860  0.020578  0.026280\nF30  0.033333  0.017860  0.020578  0.026280",
      "text/html": "<div>\n<style scoped>\n    .dataframe tbody tr th:only-of-type {\n        vertical-align: middle;\n    }\n\n    .dataframe tbody tr th {\n        vertical-align: top;\n    }\n\n    .dataframe thead th {\n        text-align: right;\n    }\n</style>\n<table border=\"1\" class=\"dataframe\">\n  <thead>\n    <tr style=\"text-align: right;\">\n      <th></th>\n      <th>eq</th>\n      <th>crit</th>\n      <th>ent</th>\n      <th>gini</th>\n    </tr>\n  </thead>\n  <tbody>\n    <tr>\n      <th>L1</th>\n      <td>0.033333</td>\n      <td>0.017860</td>\n      <td>0.020578</td>\n      <td>0.026280</td>\n    </tr>\n    <tr>\n      <th>L2</th>\n      <td>0.033333</td>\n      <td>0.016923</td>\n      <td>0.013351</td>\n      <td>0.019198</td>\n    </tr>\n    <tr>\n      <th>L3</th>\n      <td>0.033333</td>\n      <td>0.058060</td>\n      <td>0.009810</td>\n      <td>0.017816</td>\n    </tr>\n    <tr>\n      <th>L4</th>\n      <td>0.033333</td>\n      <td>0.063396</td>\n      <td>-0.001759</td>\n      <td>0.242031</td>\n    </tr>\n    <tr>\n      <th>L5</th>\n      <td>0.033333</td>\n      <td>0.068597</td>\n      <td>0.001980</td>\n      <td>0.008285</td>\n    </tr>\n    <tr>\n      <th>L6</th>\n      <td>0.033333</td>\n      <td>0.054253</td>\n      <td>0.002723</td>\n      <td>0.009510</td>\n    </tr>\n    <tr>\n      <th>M7</th>\n      <td>0.033333</td>\n      <td>0.068469</td>\n      <td>0.001994</td>\n      <td>0.007351</td>\n    </tr>\n    <tr>\n      <th>M8</th>\n      <td>0.033333</td>\n      <td>0.036517</td>\n      <td>0.004656</td>\n      <td>0.011984</td>\n    </tr>\n    <tr>\n      <th>M9</th>\n      <td>0.033333</td>\n      <td>0.017860</td>\n      <td>0.020578</td>\n      <td>0.026280</td>\n    </tr>\n    <tr>\n      <th>S10</th>\n      <td>0.033333</td>\n      <td>0.017860</td>\n      <td>0.020578</td>\n      <td>0.026280</td>\n    </tr>\n    <tr>\n      <th>S11</th>\n      <td>0.033333</td>\n      <td>0.017860</td>\n      <td>0.020578</td>\n      <td>0.026280</td>\n    </tr>\n    <tr>\n      <th>S12</th>\n      <td>0.033333</td>\n      <td>0.017860</td>\n      <td>0.020578</td>\n      <td>0.026280</td>\n    </tr>\n    <tr>\n      <th>S13</th>\n      <td>0.033333</td>\n      <td>0.017860</td>\n      <td>0.020578</td>\n      <td>0.026280</td>\n    </tr>\n    <tr>\n      <th>S14</th>\n      <td>0.033333</td>\n      <td>0.017860</td>\n      <td>0.020578</td>\n      <td>0.026280</td>\n    </tr>\n    <tr>\n      <th>S15</th>\n      <td>0.033333</td>\n      <td>0.017860</td>\n      <td>0.020578</td>\n      <td>0.026280</td>\n    </tr>\n    <tr>\n      <th>S16</th>\n      <td>0.033333</td>\n      <td>0.097980</td>\n      <td>0.037896</td>\n      <td>0.032204</td>\n    </tr>\n    <tr>\n      <th>S17</th>\n      <td>0.033333</td>\n      <td>0.098283</td>\n      <td>0.003966</td>\n      <td>0.010378</td>\n    </tr>\n    <tr>\n      <th>E18</th>\n      <td>0.033333</td>\n      <td>0.017860</td>\n      <td>0.020578</td>\n      <td>0.026280</td>\n    </tr>\n    <tr>\n      <th>E19</th>\n      <td>0.033333</td>\n      <td>0.017861</td>\n      <td>0.020588</td>\n      <td>0.026287</td>\n    </tr>\n    <tr>\n      <th>E20</th>\n      <td>0.033333</td>\n      <td>0.017587</td>\n      <td>0.020757</td>\n      <td>0.026461</td>\n    </tr>\n    <tr>\n      <th>E21</th>\n      <td>0.033333</td>\n      <td>0.017860</td>\n      <td>0.020578</td>\n      <td>0.026280</td>\n    </tr>\n    <tr>\n      <th>E22</th>\n      <td>0.033333</td>\n      <td>0.017860</td>\n      <td>0.020578</td>\n      <td>0.026280</td>\n    </tr>\n    <tr>\n      <th>E23</th>\n      <td>0.033333</td>\n      <td>0.017860</td>\n      <td>0.020578</td>\n      <td>0.026280</td>\n    </tr>\n    <tr>\n      <th>E24</th>\n      <td>0.033333</td>\n      <td>0.017860</td>\n      <td>0.020578</td>\n      <td>0.026280</td>\n    </tr>\n    <tr>\n      <th>E25</th>\n      <td>0.033333</td>\n      <td>0.040876</td>\n      <td>0.376429</td>\n      <td>0.088211</td>\n    </tr>\n    <tr>\n      <th>E26</th>\n      <td>0.033333</td>\n      <td>0.042752</td>\n      <td>0.014460</td>\n      <td>0.021003</td>\n    </tr>\n    <tr>\n      <th>E27</th>\n      <td>0.033333</td>\n      <td>0.032678</td>\n      <td>0.163907</td>\n      <td>0.058807</td>\n    </tr>\n    <tr>\n      <th>F28</th>\n      <td>0.033333</td>\n      <td>0.017860</td>\n      <td>0.020578</td>\n      <td>0.026280</td>\n    </tr>\n    <tr>\n      <th>F29</th>\n      <td>0.033333</td>\n      <td>0.017860</td>\n      <td>0.020578</td>\n      <td>0.026280</td>\n    </tr>\n    <tr>\n      <th>F30</th>\n      <td>0.033333</td>\n      <td>0.017860</td>\n      <td>0.020578</td>\n      <td>0.026280</td>\n    </tr>\n  </tbody>\n</table>\n</div>"
     },
     "execution_count": 8,
     "metadata": {},
     "output_type": "execute_result"
    }
   ],
   "source": [
    "pd.DataFrame(experiment.v_weights_scenarios, index=experiment.data.columns)"
   ],
   "metadata": {
    "collapsed": false,
    "ExecuteTime": {
     "end_time": "2024-05-15T13:47:36.161761200Z",
     "start_time": "2024-05-15T13:47:36.147556300Z"
    }
   },
   "id": "40c63440b5304585"
  },
  {
   "cell_type": "markdown",
   "source": [
    "### Maximum Group Utility vs Consensus vs Veto Robustness\n",
    "The `v` parameter in VIKOR method allows to choose between multiple approaches to obtain the final ranking. If the value is 1, then the strategy of maximum group utility is used, therefore the solution closest to ideal solution is ranked best. However, if value is 0, then the veto strategy is used. This means that the solution with worst value of the worst criterion is penalized in the ranking. Any value between 0 and 1, allows to balance between these two strategies. In case of value 0.5, a consensus between best group utility value and vetoing worst cases is achieved.\n",
    "\n",
    "In the first experiment, "
   ],
   "metadata": {
    "collapsed": false
   },
   "id": "eb9259f758fb2331"
  },
  {
   "cell_type": "markdown",
   "source": [],
   "metadata": {
    "collapsed": false
   },
   "id": "a48d58683bf37bf8"
  },
  {
   "cell_type": "code",
   "execution_count": null,
   "outputs": [],
   "source": [
    "\n",
    "\n",
    "experiment.draw_v_weights_plots()\n",
    "experiment.csv_v_weights()\n",
    "# experiment.heatmap_v_correlations() #todo sprawdzic dlaczego w EQ jest bialo\n",
    "experiment.sensitivity_analysis_v()\n",
    "\n",
    "experiment.draw_weights_sensitivity_plots()\n",
    "# experiment.heatmap_weights_correlations()\n",
    "experiment.draw_weights_scores()\n",
    "\n",
    "experiment.draw_ahp_weights_plots()\n",
    "experiment.csv_ahp_weights()\n",
    "# experiment.heatmap_ahp_correlations()\n",
    "experiment.draw_ahp_results()"
   ],
   "metadata": {
    "collapsed": false
   },
   "id": "f2bc75271acba2d0"
  }
 ],
 "metadata": {
  "kernelspec": {
   "display_name": "Python 3",
   "language": "python",
   "name": "python3"
  },
  "language_info": {
   "codemirror_mode": {
    "name": "ipython",
    "version": 2
   },
   "file_extension": ".py",
   "mimetype": "text/x-python",
   "name": "python",
   "nbconvert_exporter": "python",
   "pygments_lexer": "ipython2",
   "version": "2.7.6"
  }
 },
 "nbformat": 4,
 "nbformat_minor": 5
}
